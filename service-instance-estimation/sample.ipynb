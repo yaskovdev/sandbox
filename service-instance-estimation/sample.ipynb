{
 "cells": [
  {
   "metadata": {},
   "cell_type": "markdown",
   "source": [
    "# This is a sample Jupyter Notebook\n",
    "\n",
    "Below is an example of a code cell. \n",
    "Put your cursor into the cell and press Shift+Enter to execute it and select the next one, or click 'Run Cell' button.\n",
    "\n",
    "Press Double Shift to search everywhere for classes, files, tool windows, actions, and settings.\n",
    "\n",
    "To learn more about Jupyter Notebooks in PyCharm, see [help](https://www.jetbrains.com/help/pycharm/ipython-notebook-support.html).\n",
    "For an overview of PyCharm, go to Help -> Learn IDE features or refer to [our documentation](https://www.jetbrains.com/help/pycharm/getting-started.html)."
   ],
   "id": "8a77807f92f26ee"
  },
  {
   "metadata": {
    "ExecuteTime": {
     "end_time": "2025-06-18T16:13:52.892589Z",
     "start_time": "2025-06-18T16:13:52.441644Z"
    }
   },
   "cell_type": "code",
   "source": [
    "import importlib\n",
    "from datetime import timedelta\n",
    "import pandas as pd\n",
    "\n",
    "import matplotlib.dates as mdates\n",
    "import numpy as np\n",
    "from matplotlib import pyplot as plt\n",
    "\n",
    "import util\n",
    "import main\n",
    "\n",
    "importlib.reload(util)\n",
    "importlib.reload(main)"
   ],
   "id": "775798b1471d10a0",
   "outputs": [
    {
     "data": {
      "text/plain": [
       "<module 'main' from '/Users/yaskovdev/dev/git_home/sandbox/service-instance-estimation/main.py'>"
      ]
     },
     "execution_count": 2,
     "metadata": {},
     "output_type": "execute_result"
    }
   ],
   "execution_count": 2
  },
  {
   "metadata": {
    "ExecuteTime": {
     "end_time": "2025-06-18T16:13:53.284277Z",
     "start_time": "2025-06-18T16:13:52.897600Z"
    }
   },
   "cell_type": "code",
   "source": [
    "# Example format of the TSV file:\n",
    "# \"StartTime\",\"EndTime\"\n",
    "# \"2025-05-16 19:50:03.2040000\",\"2025-05-16 21:02:22.8440000\"\n",
    "# \"2025-05-16 19:52:30.7260000\",\"2025-05-16 21:00:30.1480000\"\n",
    "# \"2025-05-16 19:53:15.0750000\",\"2025-05-16 21:13:08.4190000\"\n",
    "# ...\n",
    "\n",
    "df = pd.read_csv(r'~/dev/tmpABB9.tmp.txt', sep=',')\n",
    "df['StartTime'] = pd.to_datetime(df['StartTime'])\n",
    "df['EndTime'] = pd.to_datetime(df['EndTime'])\n",
    "\n",
    "sessions = list(zip(df['StartTime'], df['EndTime']))\n",
    "sessions = [session for session in sessions if session[0] < session[1]]"
   ],
   "id": "fbc121e30a2defb3",
   "outputs": [],
   "execution_count": 3
  },
  {
   "metadata": {
    "ExecuteTime": {
     "end_time": "2025-06-18T16:13:53.474792Z",
     "start_time": "2025-06-18T16:13:53.293536Z"
    }
   },
   "cell_type": "code",
   "source": [
    "fig, ax = plt.subplots(figsize=(10, 5))\n",
    "\n",
    "for i, (start, end) in enumerate(sorted(sessions[:50], key=lambda x: x[0])):\n",
    "    ax.plot([start, end], [i + 1, i + 1], label=f\"Session {i + 1}\", linewidth=4)\n",
    "\n",
    "ax.xaxis.set_major_formatter(mdates.DateFormatter('%H:%M'))\n",
    "ax.xaxis.set_major_locator(mdates.MinuteLocator(interval=1))\n",
    "plt.xticks(rotation=45)\n",
    "\n",
    "ax.set_xlabel(\"Time\")\n",
    "ax.set_ylabel(\"Sessions\")\n",
    "ax.set_title(\"Sessions overlap\")\n",
    "\n",
    "plt.tight_layout()\n",
    "plt.show()"
   ],
   "id": "1be42dfd8021e552",
   "outputs": [
    {
     "data": {
      "text/plain": [
       "<Figure size 1000x500 with 1 Axes>"
      ],
      "image/png": "[encoded data removed]"
     },
     "metadata": {},
     "output_type": "display_data"
    }
   ],
   "execution_count": 4
  },
  {
   "metadata": {
    "ExecuteTime": {
     "end_time": "2025-06-18T16:13:53.482060Z",
     "start_time": "2025-06-18T16:13:53.480185Z"
    }
   },
   "cell_type": "code",
   "source": [
    "def format_time(seconds):\n",
    "    if seconds < 60:\n",
    "        return f\"{seconds:.1f} s\"\n",
    "\n",
    "    minutes, seconds = divmod(seconds, 60)\n",
    "    if minutes < 60:\n",
    "        return f\"{int(minutes)}m {seconds:.1f}s\"\n",
    "\n",
    "    hours, minutes = divmod(minutes, 60)\n",
    "    return f\"{int(hours)}h {int(minutes)}m {seconds:.1f}s\""
   ],
   "id": "d7334784d6b05824",
   "outputs": [],
   "execution_count": 5
  },
  {
   "metadata": {
    "ExecuteTime": {
     "end_time": "2025-06-18T16:13:57.590322Z",
     "start_time": "2025-06-18T16:13:53.491509Z"
    }
   },
   "cell_type": "code",
   "source": [
    "total_composers = 220\n",
    "composition_speed = 2\n",
    "delay_threshold_s = timedelta(minutes=2).total_seconds()\n",
    "delays_s = main.calculate_delays_s(sessions, total_composers, composition_speed)\n",
    "\n",
    "delays_s_np = np.array(delays_s)"
   ],
   "id": "ca2d7cc25ad25dea",
   "outputs": [],
   "execution_count": 6
  },
  {
   "metadata": {
    "ExecuteTime": {
     "end_time": "2025-06-18T16:13:57.602752Z",
     "start_time": "2025-06-18T16:13:57.595433Z"
    }
   },
   "cell_type": "code",
   "source": [
    "statistics = {\n",
    "    \"max_delay\": delays_s_np.max(),\n",
    "    \"avg_delay\": delays_s_np.mean(),\n",
    "    \"95th_percentile\": np.percentile(delays_s_np, 95),\n",
    "    \"percent_under_threshold\": (delays_s_np <= delay_threshold_s).mean() * 100,\n",
    "    \"delays\": delays_s,\n",
    "}\n",
    "\n",
    "n_delays = 10\n",
    "print(f\"Top {n_delays} delays in s: {sorted(delays_s, reverse=True)[:n_delays]}\")\n",
    "\n",
    "meets_sla = statistics['95th_percentile'] <= delay_threshold_s\n",
    "status = \"✅ OK\" if meets_sla else \"❌ FAIL\"\n",
    "\n",
    "print(f\"{total_composers} instances: \"\n",
    "      f\"Max delay = {format_time(statistics['max_delay'])}, \"\n",
    "      f\"Avg delay = {format_time(statistics['avg_delay'])}, \"\n",
    "      f\"95th = {format_time(statistics['95th_percentile'])}, \"\n",
    "      f\"% under threshold = {statistics['percent_under_threshold']}, \"\n",
    "      f\"→ {status}\")"
   ],
   "id": "743fe2d9d802773c",
   "outputs": [
    {
     "name": "stdout",
     "output_type": "stream",
     "text": [
      "Top 10 delays in s: [839.523, 838.0635, 837.1555, 836.6285, 835.5865, 835.389, 834.699, 834.3405, 833.6105, 833.298]\n",
      "220 instances: Max delay = 13m 59.5s, Avg delay = 16.9 s, 95th = 1m 29.3s, % under threshold = 95.6853775236317, → ✅ OK\n"
     ]
    }
   ],
   "execution_count": 7
  },
  {
   "metadata": {
    "ExecuteTime": {
     "end_time": "2025-06-18T16:13:57.673794Z",
     "start_time": "2025-06-18T16:13:57.672315Z"
    }
   },
   "cell_type": "code",
   "source": "",
   "id": "50006b08e06f79df",
   "outputs": [],
   "execution_count": null
  }
 ],
 "metadata": {
  "kernelspec": {
   "display_name": "Python 3",
   "language": "python",
   "name": "python3"
  },
  "language_info": {
   "codemirror_mode": {
    "name": "ipython",
    "version": 2
   },
   "file_extension": ".py",
   "mimetype": "text/x-python",
   "name": "python",
   "nbconvert_exporter": "python",
   "pygments_lexer": "ipython2",
   "version": "2.7.6"
  }
 },
 "nbformat": 4,
 "nbformat_minor": 5
}
