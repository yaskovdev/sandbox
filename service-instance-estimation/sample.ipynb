{
 "cells": [
  {
   "metadata": {},
   "cell_type": "markdown",
   "source": [
    "# This is a sample Jupyter Notebook\n",
    "\n",
    "Below is an example of a code cell. \n",
    "Put your cursor into the cell and press Shift+Enter to execute it and select the next one, or click 'Run Cell' button.\n",
    "\n",
    "Press Double Shift to search everywhere for classes, files, tool windows, actions, and settings.\n",
    "\n",
    "To learn more about Jupyter Notebooks in PyCharm, see [help](https://www.jetbrains.com/help/pycharm/ipython-notebook-support.html).\n",
    "For an overview of PyCharm, go to Help -> Learn IDE features or refer to [our documentation](https://www.jetbrains.com/help/pycharm/getting-started.html)."
   ],
   "id": "8a77807f92f26ee"
  },
  {
   "metadata": {
    "ExecuteTime": {
     "end_time": "2025-06-15T17:28:46.501931Z",
     "start_time": "2025-06-15T17:28:45.956564Z"
    }
   },
   "cell_type": "code",
   "source": [
    "import importlib\n",
    "from datetime import timedelta\n",
    "import pandas as pd\n",
    "\n",
    "import matplotlib.dates as mdates\n",
    "import numpy as np\n",
    "from matplotlib import pyplot as plt\n",
    "\n",
    "import util\n",
    "import main\n",
    "\n",
    "importlib.reload(util)\n",
    "importlib.reload(main)"
   ],
   "id": "775798b1471d10a0",
   "outputs": [
    {
     "data": {
      "text/plain": [
       "<module 'main' from '/Users/yaskovdev/dev/git_home/sandbox/service-instance-estimation/main.py'>"
      ]
     },
     "execution_count": 406,
     "metadata": {},
     "output_type": "execute_result"
    }
   ],
   "execution_count": 406
  },
  {
   "metadata": {
    "ExecuteTime": {
     "end_time": "2025-06-15T17:53:36.911377Z",
     "start_time": "2025-06-15T17:53:33.163677Z"
    }
   },
   "cell_type": "code",
   "source": [
    "df = pd.read_csv('~/dev/tmpA7D1.tmp.txt', sep='\\t')\n",
    "df['StartTime'] = pd.to_datetime(df['StartTime'])\n",
    "df['EndTime'] = pd.to_datetime(df['EndTime'])\n",
    "\n",
    "sessions = list(zip(df['StartTime'], df['EndTime']))\n",
    "sessions = [session for session in sessions if session[0] < session[1]]"
   ],
   "id": "fbc121e30a2defb3",
   "outputs": [],
   "execution_count": 448
  },
  {
   "metadata": {
    "ExecuteTime": {
     "end_time": "2025-06-15T17:57:13.602829Z",
     "start_time": "2025-06-15T17:57:10.934229Z"
    }
   },
   "cell_type": "code",
   "source": [
    "fig, ax = plt.subplots(figsize=(10, 5))\n",
    "\n",
    "for i, (start, end) in enumerate(sorted(sessions[:50], key=lambda x: x[0])):\n",
    "    ax.plot([start, end], [i + 1, i + 1], label=f\"Session {i + 1}\", linewidth=4)\n",
    "\n",
    "ax.xaxis.set_major_formatter(mdates.DateFormatter('%H:%M'))\n",
    "ax.xaxis.set_major_locator(mdates.MinuteLocator(interval=1))\n",
    "plt.xticks(rotation=45)\n",
    "\n",
    "ax.set_xlabel(\"Time\")\n",
    "ax.set_ylabel(\"Sessions\")\n",
    "ax.set_title(\"Sessions overlap\")\n",
    "\n",
    "plt.tight_layout()\n",
    "plt.show()"
   ],
   "id": "1be42dfd8021e552",
   "outputs": [
    {
     "name": "stderr",
     "output_type": "stream",
     "text": [
      "Locator attempting to generate 1355 ticks ([20223.80972222222, ..., 20224.75]), which exceeds Locator.MAXTICKS (1000).\n",
      "Locator attempting to generate 1355 ticks ([20223.80972222222, ..., 20224.75]), which exceeds Locator.MAXTICKS (1000).\n",
      "Locator attempting to generate 1355 ticks ([20223.80972222222, ..., 20224.75]), which exceeds Locator.MAXTICKS (1000).\n",
      "Locator attempting to generate 1355 ticks ([20223.80972222222, ..., 20224.75]), which exceeds Locator.MAXTICKS (1000).\n",
      "Locator attempting to generate 1355 ticks ([20223.80972222222, ..., 20224.75]), which exceeds Locator.MAXTICKS (1000).\n",
      "Locator attempting to generate 1355 ticks ([20223.80972222222, ..., 20224.75]), which exceeds Locator.MAXTICKS (1000).\n",
      "Locator attempting to generate 1355 ticks ([20223.80972222222, ..., 20224.75]), which exceeds Locator.MAXTICKS (1000).\n",
      "Locator attempting to generate 1355 ticks ([20223.80972222222, ..., 20224.75]), which exceeds Locator.MAXTICKS (1000).\n",
      "Locator attempting to generate 1355 ticks ([20223.80972222222, ..., 20224.75]), which exceeds Locator.MAXTICKS (1000).\n",
      "Locator attempting to generate 1355 ticks ([20223.80972222222, ..., 20224.75]), which exceeds Locator.MAXTICKS (1000).\n",
      "Locator attempting to generate 1355 ticks ([20223.80972222222, ..., 20224.75]), which exceeds Locator.MAXTICKS (1000).\n",
      "Locator attempting to generate 1355 ticks ([20223.80972222222, ..., 20224.75]), which exceeds Locator.MAXTICKS (1000).\n",
      "Locator attempting to generate 1355 ticks ([20223.80972222222, ..., 20224.75]), which exceeds Locator.MAXTICKS (1000).\n",
      "Locator attempting to generate 1355 ticks ([20223.80972222222, ..., 20224.75]), which exceeds Locator.MAXTICKS (1000).\n",
      "Locator attempting to generate 1355 ticks ([20223.80972222222, ..., 20224.75]), which exceeds Locator.MAXTICKS (1000).\n",
      "Locator attempting to generate 1355 ticks ([20223.80972222222, ..., 20224.75]), which exceeds Locator.MAXTICKS (1000).\n",
      "Locator attempting to generate 1355 ticks ([20223.80972222222, ..., 20224.75]), which exceeds Locator.MAXTICKS (1000).\n",
      "Locator attempting to generate 1355 ticks ([20223.80972222222, ..., 20224.75]), which exceeds Locator.MAXTICKS (1000).\n",
      "Locator attempting to generate 1355 ticks ([20223.80972222222, ..., 20224.75]), which exceeds Locator.MAXTICKS (1000).\n",
      "Locator attempting to generate 1355 ticks ([20223.80972222222, ..., 20224.75]), which exceeds Locator.MAXTICKS (1000).\n",
      "Locator attempting to generate 1355 ticks ([20223.80972222222, ..., 20224.75]), which exceeds Locator.MAXTICKS (1000).\n",
      "Locator attempting to generate 1355 ticks ([20223.80972222222, ..., 20224.75]), which exceeds Locator.MAXTICKS (1000).\n",
      "Locator attempting to generate 1355 ticks ([20223.80972222222, ..., 20224.75]), which exceeds Locator.MAXTICKS (1000).\n",
      "Locator attempting to generate 1355 ticks ([20223.80972222222, ..., 20224.75]), which exceeds Locator.MAXTICKS (1000).\n",
      "Locator attempting to generate 1355 ticks ([20223.80972222222, ..., 20224.75]), which exceeds Locator.MAXTICKS (1000).\n",
      "Locator attempting to generate 1355 ticks ([20223.80972222222, ..., 20224.75]), which exceeds Locator.MAXTICKS (1000).\n",
      "Locator attempting to generate 1355 ticks ([20223.80972222222, ..., 20224.75]), which exceeds Locator.MAXTICKS (1000).\n",
      "Locator attempting to generate 1355 ticks ([20223.80972222222, ..., 20224.75]), which exceeds Locator.MAXTICKS (1000).\n",
      "Locator attempting to generate 1355 ticks ([20223.80972222222, ..., 20224.75]), which exceeds Locator.MAXTICKS (1000).\n",
      "Locator attempting to generate 1355 ticks ([20223.80972222222, ..., 20224.75]), which exceeds Locator.MAXTICKS (1000).\n",
      "Locator attempting to generate 1355 ticks ([20223.80972222222, ..., 20224.75]), which exceeds Locator.MAXTICKS (1000).\n",
      "Locator attempting to generate 1355 ticks ([20223.80972222222, ..., 20224.75]), which exceeds Locator.MAXTICKS (1000).\n",
      "Locator attempting to generate 1355 ticks ([20223.80972222222, ..., 20224.75]), which exceeds Locator.MAXTICKS (1000).\n",
      "Locator attempting to generate 1355 ticks ([20223.80972222222, ..., 20224.75]), which exceeds Locator.MAXTICKS (1000).\n",
      "Locator attempting to generate 1355 ticks ([20223.80972222222, ..., 20224.75]), which exceeds Locator.MAXTICKS (1000).\n",
      "Locator attempting to generate 1355 ticks ([20223.80972222222, ..., 20224.75]), which exceeds Locator.MAXTICKS (1000).\n"
     ]
    },
    {
     "data": {
      "text/plain": [
       "<Figure size 1000x500 with 1 Axes>"
      ],
      "image/png": "[encoded data removed]"
     },
     "metadata": {},
     "output_type": "display_data"
    }
   ],
   "execution_count": 455
  },
  {
   "metadata": {
    "ExecuteTime": {
     "end_time": "2025-06-15T17:53:47.214319Z",
     "start_time": "2025-06-15T17:53:47.210237Z"
    }
   },
   "cell_type": "code",
   "source": [
    "def format_time(seconds):\n",
    "    if seconds < 60:\n",
    "        return f\"{seconds:.1f} s\"\n",
    "\n",
    "    minutes, seconds = divmod(seconds, 60)\n",
    "    if minutes < 60:\n",
    "        return f\"{int(minutes)}m {seconds:.1f}s\"\n",
    "\n",
    "    hours, minutes = divmod(minutes, 60)\n",
    "    return f\"{int(hours)}h {int(minutes)}m {seconds:.1f}s\""
   ],
   "id": "d7334784d6b05824",
   "outputs": [],
   "execution_count": 450
  },
  {
   "metadata": {
    "ExecuteTime": {
     "end_time": "2025-06-15T17:56:07.056200Z",
     "start_time": "2025-06-15T17:55:31.968171Z"
    }
   },
   "cell_type": "code",
   "source": [
    "total_composers = 250\n",
    "composition_speed = 2\n",
    "delay_threshold_s = timedelta(minutes=2).total_seconds()\n",
    "delays_s = main.calculate_delays_s(sessions, total_composers, composition_speed)\n",
    "\n",
    "delays_s_np = np.array(delays_s)"
   ],
   "id": "ca2d7cc25ad25dea",
   "outputs": [
    {
     "name": "stdout",
     "output_type": "stream",
     "text": [
      "Top 100 delays in s: [3280.602, 3279.3265, 3279.021, 3277.336, 3276.773, 3276.024, 3275.708, 3275.418, 3274.213, 3272.7855, 3270.456, 3270.1065, 3269.6135, 3269.3435, 3266.517, 3265.4585, 3265.246, 3265.2015, 3265.0995, 3264.5655, 3264.311, 3263.591, 3263.384, 3263.296, 3261.7555, 3261.57, 3261.252, 3261.0635, 3260.9725, 3260.001, 3259.537, 3258.6925, 3257.703, 3257.3505, 3257.1485, 3257.053, 3256.799, 3256.59, 3256.3315, 3255.939, 3255.338, 3255.0095, 3254.8645, 3254.6695, 3254.492, 3254.451, 3254.3505, 3253.2925, 3252.9245, 3252.337, 3252.0125, 3251.8675, 3251.5305, 3251.0125, 3250.2035, 3250.201, 3250.1365, 3249.5045, 3249.1305, 3249.016, 3248.648, 3248.425, 3248.3105, 3248.3025, 3247.992, 3247.763, 3247.422, 3247.4015, 3247.239, 3247.1, 3246.944, 3246.7035, 3246.625, 3246.5465, 3246.503, 3246.1365, 3246.0295, 3245.489, 3245.249, 3245.2165, 3245.1925, 3244.6735, 3244.451, 3243.777, 3243.6775, 3243.6675, 3242.9345, 3242.0205, 3241.8265, 3241.4645, 3241.234, 3241.15, 3241.0055, 3240.726, 3240.1265, 3240.0985, 3239.906, 3239.3135, 3239.252, 3239.2375]\n",
      "250 instances: Max delay = 54m 40.6s, Avg delay = 23.0 s, 95th = 6m 59.9s, → ❌ FAIL\n"
     ]
    }
   ],
   "execution_count": 453
  },
  {
   "metadata": {
    "ExecuteTime": {
     "end_time": "2025-06-15T17:56:38.588059Z",
     "start_time": "2025-06-15T17:56:38.558070Z"
    }
   },
   "cell_type": "code",
   "source": [
    "statistics = {\n",
    "    \"max_delay\": delays_s_np.max(),\n",
    "    \"avg_delay\": delays_s_np.mean(),\n",
    "    \"95th_percentile\": np.percentile(delays_s_np, 95),\n",
    "    \"percent_under_threshold\": (delays_s_np <= delay_threshold_s).mean() * 100,\n",
    "    \"delays\": delays_s,\n",
    "}\n",
    "\n",
    "print(f\"Top 100 delays in s: {sorted(delays_s, reverse=True)[:100]}\")\n",
    "\n",
    "meets_sla = statistics['95th_percentile'] <= delay_threshold_s\n",
    "status = \"✅ OK\" if meets_sla else \"❌ FAIL\"\n",
    "\n",
    "print(f\"{total_composers} instances: \"\n",
    "      f\"Max delay = {format_time(statistics['max_delay'])}, \"\n",
    "      f\"Avg delay = {format_time(statistics['avg_delay'])}, \"\n",
    "      f\"95th = {format_time(statistics['95th_percentile'])}, \"\n",
    "      f\"→ {status}\")"
   ],
   "id": "743fe2d9d802773c",
   "outputs": [
    {
     "name": "stdout",
     "output_type": "stream",
     "text": [
      "Top 100 delays in s: [3280.602, 3279.3265, 3279.021, 3277.336, 3276.773, 3276.024, 3275.708, 3275.418, 3274.213, 3272.7855, 3270.456, 3270.1065, 3269.6135, 3269.3435, 3266.517, 3265.4585, 3265.246, 3265.2015, 3265.0995, 3264.5655, 3264.311, 3263.591, 3263.384, 3263.296, 3261.7555, 3261.57, 3261.252, 3261.0635, 3260.9725, 3260.001, 3259.537, 3258.6925, 3257.703, 3257.3505, 3257.1485, 3257.053, 3256.799, 3256.59, 3256.3315, 3255.939, 3255.338, 3255.0095, 3254.8645, 3254.6695, 3254.492, 3254.451, 3254.3505, 3253.2925, 3252.9245, 3252.337, 3252.0125, 3251.8675, 3251.5305, 3251.0125, 3250.2035, 3250.201, 3250.1365, 3249.5045, 3249.1305, 3249.016, 3248.648, 3248.425, 3248.3105, 3248.3025, 3247.992, 3247.763, 3247.422, 3247.4015, 3247.239, 3247.1, 3246.944, 3246.7035, 3246.625, 3246.5465, 3246.503, 3246.1365, 3246.0295, 3245.489, 3245.249, 3245.2165, 3245.1925, 3244.6735, 3244.451, 3243.777, 3243.6775, 3243.6675, 3242.9345, 3242.0205, 3241.8265, 3241.4645, 3241.234, 3241.15, 3241.0055, 3240.726, 3240.1265, 3240.0985, 3239.906, 3239.3135, 3239.252, 3239.2375]\n",
      "250 instances: Max delay = 54m 40.6s, Avg delay = 23.0 s, 95th = 11.9 s, → ✅ OK\n"
     ]
    }
   ],
   "execution_count": 454
  },
  {
   "metadata": {
    "ExecuteTime": {
     "end_time": "2025-06-15T08:12:44.283819Z",
     "start_time": "2025-06-15T08:12:44.282322Z"
    }
   },
   "cell_type": "code",
   "source": "",
   "id": "50006b08e06f79df",
   "outputs": [],
   "execution_count": null
  }
 ],
 "metadata": {
  "kernelspec": {
   "display_name": "Python 3",
   "language": "python",
   "name": "python3"
  },
  "language_info": {
   "codemirror_mode": {
    "name": "ipython",
    "version": 2
   },
   "file_extension": ".py",
   "mimetype": "text/x-python",
   "name": "python",
   "nbconvert_exporter": "python",
   "pygments_lexer": "ipython2",
   "version": "2.7.6"
  }
 },
 "nbformat": 4,
 "nbformat_minor": 5
}
