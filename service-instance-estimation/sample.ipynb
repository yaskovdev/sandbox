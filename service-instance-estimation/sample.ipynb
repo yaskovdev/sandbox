{
 "cells": [
  {
   "metadata": {},
   "cell_type": "markdown",
   "source": [
    "# This is a sample Jupyter Notebook\n",
    "\n",
    "Below is an example of a code cell. \n",
    "Put your cursor into the cell and press Shift+Enter to execute it and select the next one, or click 'Run Cell' button.\n",
    "\n",
    "Press Double Shift to search everywhere for classes, files, tool windows, actions, and settings.\n",
    "\n",
    "To learn more about Jupyter Notebooks in PyCharm, see [help](https://www.jetbrains.com/help/pycharm/ipython-notebook-support.html).\n",
    "For an overview of PyCharm, go to Help -> Learn IDE features or refer to [our documentation](https://www.jetbrains.com/help/pycharm/getting-started.html)."
   ],
   "id": "8a77807f92f26ee"
  },
  {
   "metadata": {
    "ExecuteTime": {
     "end_time": "2025-06-14T19:49:36.684248Z",
     "start_time": "2025-06-14T19:49:36.678050Z"
    }
   },
   "cell_type": "code",
   "source": [
    "import importlib\n",
    "from datetime import datetime, timedelta\n",
    "\n",
    "import matplotlib.dates as mdates\n",
    "import numpy as np\n",
    "from matplotlib import pyplot as plt\n",
    "\n",
    "import util\n",
    "import main\n",
    "\n",
    "importlib.reload(util)\n",
    "importlib.reload(main)"
   ],
   "id": "775798b1471d10a0",
   "outputs": [
    {
     "data": {
      "text/plain": [
       "<module 'main' from '/Users/yaskovdev/dev/git_home/sandbox/service-instance-estimation/main.py'>"
      ]
     },
     "execution_count": 334,
     "metadata": {},
     "output_type": "execute_result"
    }
   ],
   "execution_count": 334
  },
  {
   "metadata": {
    "ExecuteTime": {
     "end_time": "2025-06-14T19:49:36.695557Z",
     "start_time": "2025-06-14T19:49:36.693019Z"
    }
   },
   "cell_type": "code",
   "source": [
    "sessions = [\n",
    "    (datetime(2024, 1, 1, 9, 0), datetime(2024, 1, 1, 9, 7)),\n",
    "    (datetime(2024, 1, 1, 9, 3), datetime(2024, 1, 1, 9, 10)),\n",
    "    (datetime(2024, 1, 1, 9, 9), datetime(2024, 1, 1, 9, 17)),\n",
    "    (datetime(2024, 1, 1, 9, 6), datetime(2024, 1, 1, 9, 19)),\n",
    "]"
   ],
   "id": "fbc121e30a2defb3",
   "outputs": [],
   "execution_count": 335
  },
  {
   "metadata": {
    "ExecuteTime": {
     "end_time": "2025-06-14T19:49:36.826603Z",
     "start_time": "2025-06-14T19:49:36.756745Z"
    }
   },
   "cell_type": "code",
   "source": [
    "fig, ax = plt.subplots(figsize=(10, 5))\n",
    "\n",
    "for i, (start, end) in enumerate(sorted(sessions, key=lambda x: x[0])):\n",
    "    ax.plot([start, end], [i + 1, i + 1], label=f\"Session {i + 1}\", linewidth=4)\n",
    "\n",
    "ax.xaxis.set_major_formatter(mdates.DateFormatter('%H:%M'))\n",
    "ax.xaxis.set_major_locator(mdates.MinuteLocator(interval=1))\n",
    "plt.xticks(rotation=45)\n",
    "\n",
    "ax.set_xlabel(\"Time\")\n",
    "ax.set_ylabel(\"Sessions\")\n",
    "ax.set_title(\"Sessions overlap\")\n",
    "\n",
    "plt.tight_layout()\n",
    "plt.show()"
   ],
   "id": "1be42dfd8021e552",
   "outputs": [
    {
     "data": {
      "text/plain": [
       "<Figure size 1000x500 with 1 Axes>"
      ],
      "image/png": "[encoded data removed]"
     },
     "metadata": {},
     "output_type": "display_data"
    }
   ],
   "execution_count": 336
  },
  {
   "metadata": {
    "ExecuteTime": {
     "end_time": "2025-06-14T19:49:36.839132Z",
     "start_time": "2025-06-14T19:49:36.836322Z"
    }
   },
   "cell_type": "code",
   "source": [
    "total_composers = 2\n",
    "composition_speed = 2\n",
    "delay_threshold_s = timedelta(minutes=1).total_seconds()\n",
    "delays_s = main.calculate_delays_s(sessions, total_composers, composition_speed)\n",
    "\n",
    "delays_s_np = np.array(delays_s)\n",
    "statistics = {\n",
    "    \"max_delay\": delays_s_np.max(),\n",
    "    \"avg_delay\": delays_s_np.mean(),\n",
    "    \"95th_percentile\": np.percentile(delays_s_np, 95),\n",
    "    \"percent_under_threshold\": (delays_s_np <= delay_threshold_s).mean() * 100,\n",
    "    \"delays\": delays_s,\n",
    "}\n",
    "\n",
    "print(f\"Delays in s: {delays_s}\")\n",
    "\n",
    "meets_sla = statistics['95th_percentile'] <= delay_threshold_s\n",
    "status = \"✅ OK\" if meets_sla else \"❌ FAIL\"\n",
    "\n",
    "print(f\"{total_composers} instances: \"\n",
    "      f\"Avg delay = {statistics['avg_delay']:.1f} s, \"\n",
    "      f\"95th = {statistics['95th_percentile']:.1f} s, \"\n",
    "      f\"→ {status}\")\n"
   ],
   "id": "ca2d7cc25ad25dea",
   "outputs": [
    {
     "name": "stdout",
     "output_type": "stream",
     "text": [
      "Delays in s: [0.0, 0.0, 0.0, 0.0]\n",
      "2 instances: Avg delay = 0.0 s, 95th = 0.0 s, → ✅ OK\n"
     ]
    }
   ],
   "execution_count": 337
  },
  {
   "metadata": {
    "ExecuteTime": {
     "end_time": "2025-06-14T19:49:36.849144Z",
     "start_time": "2025-06-14T19:49:36.847734Z"
    }
   },
   "cell_type": "code",
   "source": "",
   "id": "50006b08e06f79df",
   "outputs": [],
   "execution_count": null
  }
 ],
 "metadata": {
  "kernelspec": {
   "display_name": "Python 3",
   "language": "python",
   "name": "python3"
  },
  "language_info": {
   "codemirror_mode": {
    "name": "ipython",
    "version": 2
   },
   "file_extension": ".py",
   "mimetype": "text/x-python",
   "name": "python",
   "nbconvert_exporter": "python",
   "pygments_lexer": "ipython2",
   "version": "2.7.6"
  }
 },
 "nbformat": 4,
 "nbformat_minor": 5
}
