{
 "cells": [
  {
   "metadata": {},
   "cell_type": "markdown",
   "source": [
    "# This is a sample Jupyter Notebook\n",
    "\n",
    "Below is an example of a code cell. \n",
    "Put your cursor into the cell and press Shift+Enter to execute it and select the next one, or click 'Run Cell' button.\n",
    "\n",
    "Press Double Shift to search everywhere for classes, files, tool windows, actions, and settings.\n",
    "\n",
    "To learn more about Jupyter Notebooks in PyCharm, see [help](https://www.jetbrains.com/help/pycharm/ipython-notebook-support.html).\n",
    "For an overview of PyCharm, go to Help -> Learn IDE features or refer to [our documentation](https://www.jetbrains.com/help/pycharm/getting-started.html)."
   ],
   "id": "8a77807f92f26ee"
  },
  {
   "metadata": {
    "ExecuteTime": {
     "end_time": "2025-07-10T07:42:02.410933Z",
     "start_time": "2025-07-10T07:42:00.517458Z"
    }
   },
   "cell_type": "code",
   "source": [
    "import importlib\n",
    "from datetime import timedelta\n",
    "import pandas as pd\n",
    "\n",
    "import matplotlib.dates as mdates\n",
    "import numpy as np\n",
    "from matplotlib import pyplot as plt\n",
    "\n",
    "import util\n",
    "import main\n",
    "\n",
    "importlib.reload(util)\n",
    "importlib.reload(main)"
   ],
   "id": "775798b1471d10a0",
   "outputs": [
    {
     "data": {
      "text/plain": [
       "<module 'main' from 'C:\\\\dev\\\\git_home\\\\sandbox\\\\service-instance-estimation\\\\main.py'>"
      ]
     },
     "execution_count": 1,
     "metadata": {},
     "output_type": "execute_result"
    }
   ],
   "execution_count": 1
  },
  {
   "metadata": {
    "ExecuteTime": {
     "end_time": "2025-07-10T08:09:43.223631Z",
     "start_time": "2025-07-10T08:09:35.932368Z"
    }
   },
   "cell_type": "code",
   "source": [
    "# Example format of the TSV file:\n",
    "# \"StartTime\",\"EndTime\"\n",
    "# \"2025-05-16 19:50:03.2040000\",\"2025-05-16 21:02:22.8440000\"\n",
    "# \"2025-05-16 19:52:30.7260000\",\"2025-05-16 21:00:30.1480000\"\n",
    "# \"2025-05-16 19:53:15.0750000\",\"2025-05-16 21:13:08.4190000\"\n",
    "# ...\n",
    "\n",
    "df = pd.read_csv(r'c:\\Users\\sergeiiaskov\\OneDrive - Microsoft\\dev\\tasks\\4163956\\ring0__ring0_s__ring1.csv', sep='\\t')\n",
    "df['StartTime'] = pd.to_datetime(df['StartTime'])\n",
    "df['EndTime'] = pd.to_datetime(df['EndTime'])\n",
    "\n",
    "sessions = list(zip(df['StartTime'], df['EndTime']))"
   ],
   "id": "fbc121e30a2defb3",
   "outputs": [],
   "execution_count": 18
  },
  {
   "metadata": {
    "ExecuteTime": {
     "end_time": "2025-07-10T08:09:46.369926Z",
     "start_time": "2025-07-10T08:09:44.052429Z"
    }
   },
   "cell_type": "code",
   "source": [
    "fig, ax = plt.subplots(figsize=(10, 5))\n",
    "\n",
    "for i, (start, end) in enumerate(sorted(sessions[:50], key=lambda x: x[0])):\n",
    "    ax.plot([start, end], [i + 1, i + 1], label=f\"Session {i + 1}\", linewidth=4)\n",
    "\n",
    "ax.xaxis.set_major_formatter(mdates.DateFormatter('%H:%M'))\n",
    "ax.xaxis.set_major_locator(mdates.MinuteLocator(interval=1))\n",
    "plt.xticks(rotation=45)\n",
    "\n",
    "ax.set_xlabel(\"Time\")\n",
    "ax.set_ylabel(\"Sessions\")\n",
    "ax.set_title(\"Sessions overlap\")\n",
    "\n",
    "plt.tight_layout()\n",
    "plt.show()"
   ],
   "id": "1be42dfd8021e552",
   "outputs": [
    {
     "name": "stderr",
     "output_type": "stream",
     "text": [
      "Locator attempting to generate 1054 ticks ([20248.69722222222, ..., 20249.428472222222]), which exceeds Locator.MAXTICKS (1000).\n",
      "Locator attempting to generate 1054 ticks ([20248.69722222222, ..., 20249.428472222222]), which exceeds Locator.MAXTICKS (1000).\n",
      "Locator attempting to generate 1054 ticks ([20248.69722222222, ..., 20249.428472222222]), which exceeds Locator.MAXTICKS (1000).\n",
      "Locator attempting to generate 1054 ticks ([20248.69722222222, ..., 20249.428472222222]), which exceeds Locator.MAXTICKS (1000).\n",
      "Locator attempting to generate 1054 ticks ([20248.69722222222, ..., 20249.428472222222]), which exceeds Locator.MAXTICKS (1000).\n",
      "Locator attempting to generate 1054 ticks ([20248.69722222222, ..., 20249.428472222222]), which exceeds Locator.MAXTICKS (1000).\n",
      "Locator attempting to generate 1054 ticks ([20248.69722222222, ..., 20249.428472222222]), which exceeds Locator.MAXTICKS (1000).\n",
      "Locator attempting to generate 1054 ticks ([20248.69722222222, ..., 20249.428472222222]), which exceeds Locator.MAXTICKS (1000).\n",
      "Locator attempting to generate 1054 ticks ([20248.69722222222, ..., 20249.428472222222]), which exceeds Locator.MAXTICKS (1000).\n",
      "Locator attempting to generate 1054 ticks ([20248.69722222222, ..., 20249.428472222222]), which exceeds Locator.MAXTICKS (1000).\n",
      "Locator attempting to generate 1054 ticks ([20248.69722222222, ..., 20249.428472222222]), which exceeds Locator.MAXTICKS (1000).\n",
      "Locator attempting to generate 1054 ticks ([20248.69722222222, ..., 20249.428472222222]), which exceeds Locator.MAXTICKS (1000).\n",
      "Locator attempting to generate 1054 ticks ([20248.69722222222, ..., 20249.428472222222]), which exceeds Locator.MAXTICKS (1000).\n",
      "Locator attempting to generate 1054 ticks ([20248.69722222222, ..., 20249.428472222222]), which exceeds Locator.MAXTICKS (1000).\n",
      "Locator attempting to generate 1054 ticks ([20248.69722222222, ..., 20249.428472222222]), which exceeds Locator.MAXTICKS (1000).\n",
      "Locator attempting to generate 1054 ticks ([20248.69722222222, ..., 20249.428472222222]), which exceeds Locator.MAXTICKS (1000).\n",
      "Locator attempting to generate 1054 ticks ([20248.69722222222, ..., 20249.428472222222]), which exceeds Locator.MAXTICKS (1000).\n",
      "Locator attempting to generate 1054 ticks ([20248.69722222222, ..., 20249.428472222222]), which exceeds Locator.MAXTICKS (1000).\n",
      "Locator attempting to generate 1054 ticks ([20248.69722222222, ..., 20249.428472222222]), which exceeds Locator.MAXTICKS (1000).\n",
      "Locator attempting to generate 1054 ticks ([20248.69722222222, ..., 20249.428472222222]), which exceeds Locator.MAXTICKS (1000).\n",
      "Locator attempting to generate 1054 ticks ([20248.69722222222, ..., 20249.428472222222]), which exceeds Locator.MAXTICKS (1000).\n",
      "Locator attempting to generate 1054 ticks ([20248.69722222222, ..., 20249.428472222222]), which exceeds Locator.MAXTICKS (1000).\n",
      "Locator attempting to generate 1054 ticks ([20248.69722222222, ..., 20249.428472222222]), which exceeds Locator.MAXTICKS (1000).\n",
      "Locator attempting to generate 1054 ticks ([20248.69722222222, ..., 20249.428472222222]), which exceeds Locator.MAXTICKS (1000).\n",
      "Locator attempting to generate 1054 ticks ([20248.69722222222, ..., 20249.428472222222]), which exceeds Locator.MAXTICKS (1000).\n",
      "Locator attempting to generate 1054 ticks ([20248.69722222222, ..., 20249.428472222222]), which exceeds Locator.MAXTICKS (1000).\n",
      "Locator attempting to generate 1054 ticks ([20248.69722222222, ..., 20249.428472222222]), which exceeds Locator.MAXTICKS (1000).\n",
      "Locator attempting to generate 1054 ticks ([20248.69722222222, ..., 20249.428472222222]), which exceeds Locator.MAXTICKS (1000).\n",
      "Locator attempting to generate 1054 ticks ([20248.69722222222, ..., 20249.428472222222]), which exceeds Locator.MAXTICKS (1000).\n",
      "Locator attempting to generate 1054 ticks ([20248.69722222222, ..., 20249.428472222222]), which exceeds Locator.MAXTICKS (1000).\n",
      "Locator attempting to generate 1054 ticks ([20248.69722222222, ..., 20249.428472222222]), which exceeds Locator.MAXTICKS (1000).\n",
      "Locator attempting to generate 1054 ticks ([20248.69722222222, ..., 20249.428472222222]), which exceeds Locator.MAXTICKS (1000).\n",
      "Locator attempting to generate 1054 ticks ([20248.69722222222, ..., 20249.428472222222]), which exceeds Locator.MAXTICKS (1000).\n",
      "Locator attempting to generate 1054 ticks ([20248.69722222222, ..., 20249.428472222222]), which exceeds Locator.MAXTICKS (1000).\n",
      "Locator attempting to generate 1054 ticks ([20248.69722222222, ..., 20249.428472222222]), which exceeds Locator.MAXTICKS (1000).\n",
      "Locator attempting to generate 1054 ticks ([20248.69722222222, ..., 20249.428472222222]), which exceeds Locator.MAXTICKS (1000).\n"
     ]
    },
    {
     "data": {
      "text/plain": [
       "<Figure size 1000x500 with 1 Axes>"
      ],
      "image/png": "[encoded data removed]"
     },
     "metadata": {},
     "output_type": "display_data"
    }
   ],
   "execution_count": 19
  },
  {
   "metadata": {
    "ExecuteTime": {
     "end_time": "2025-07-10T08:09:47.748919Z",
     "start_time": "2025-07-10T08:09:47.744746Z"
    }
   },
   "cell_type": "code",
   "source": [
    "def format_time(seconds):\n",
    "    if seconds < 60:\n",
    "        return f\"{seconds:.1f} s\"\n",
    "\n",
    "    minutes, seconds = divmod(seconds, 60)\n",
    "    if minutes < 60:\n",
    "        return f\"{int(minutes)}m {seconds:.1f}s\"\n",
    "\n",
    "    hours, minutes = divmod(minutes, 60)\n",
    "    return f\"{int(hours)}h {int(minutes)}m {seconds:.1f}s\""
   ],
   "id": "d7334784d6b05824",
   "outputs": [],
   "execution_count": 20
  },
  {
   "metadata": {
    "ExecuteTime": {
     "end_time": "2025-07-10T08:15:09.210294Z",
     "start_time": "2025-07-10T08:14:17.291208Z"
    }
   },
   "cell_type": "code",
   "source": [
    "total_composers = 900\n",
    "composition_speed = 1\n",
    "delay_threshold_s = timedelta(minutes=10).total_seconds()\n",
    "delays_s = main.calculate_delays_s(sessions, total_composers, composition_speed)\n",
    "\n",
    "delays_s_np = np.array(delays_s)"
   ],
   "id": "ca2d7cc25ad25dea",
   "outputs": [],
   "execution_count": 29
  },
  {
   "metadata": {
    "ExecuteTime": {
     "end_time": "2025-07-10T08:15:32.838756Z",
     "start_time": "2025-07-10T08:15:32.774153Z"
    }
   },
   "cell_type": "code",
   "source": [
    "statistics = {\n",
    "    \"max_delay\": delays_s_np.max(),\n",
    "    \"avg_delay\": delays_s_np.mean(),\n",
    "    \"95th_percentile\": np.percentile(delays_s_np, 95),\n",
    "    \"99th_percentile\": np.percentile(delays_s_np, 99),\n",
    "    \"percent_under_threshold\": (delays_s_np <= delay_threshold_s).mean() * 100,\n",
    "    \"delays\": delays_s,\n",
    "}\n",
    "\n",
    "n_delays = 10\n",
    "print(f\"Top {n_delays} delays in s: {sorted(delays_s, reverse=True)[:n_delays]}\")\n",
    "\n",
    "meets_sla = statistics['95th_percentile'] <= delay_threshold_s\n",
    "status = \"✅ OK\" if meets_sla else \"❌ FAIL\"\n",
    "\n",
    "print(f\"{total_composers} instances: \"\n",
    "      f\"Max delay = {format_time(statistics['max_delay'])}, \"\n",
    "      f\"Avg delay = {format_time(statistics['avg_delay'])}, \"\n",
    "      f\"95th = {format_time(statistics['95th_percentile'])}, \"\n",
    "      f\"99th = {format_time(statistics['99th_percentile'])}, \"\n",
    "      f\"% under threshold = {statistics['percent_under_threshold']}, \"\n",
    "      f\"→ {status}\")"
   ],
   "id": "743fe2d9d802773c",
   "outputs": [
    {
     "name": "stdout",
     "output_type": "stream",
     "text": [
      "Top 10 delays in s: [4993.444, 4993.339, 4993.085, 4993.024, 4992.927, 4992.472, 4991.881, 4991.692, 4991.324, 4990.504]\n",
      "900 instances: Max delay = 1h 23m 13.4s, Avg delay = 1m 4.7s, 95th = 0.0 s, 99th = 37m 40.6s, % under threshold = 97.10166850235015, → ✅ OK\n"
     ]
    }
   ],
   "execution_count": 30
  },
  {
   "metadata": {
    "ExecuteTime": {
     "end_time": "2025-06-18T16:13:57.673794Z",
     "start_time": "2025-06-18T16:13:57.672315Z"
    }
   },
   "cell_type": "code",
   "source": "",
   "id": "50006b08e06f79df",
   "outputs": [],
   "execution_count": null
  }
 ],
 "metadata": {
  "kernelspec": {
   "display_name": "Python 3",
   "language": "python",
   "name": "python3"
  },
  "language_info": {
   "codemirror_mode": {
    "name": "ipython",
    "version": 2
   },
   "file_extension": ".py",
   "mimetype": "text/x-python",
   "name": "python",
   "nbconvert_exporter": "python",
   "pygments_lexer": "ipython2",
   "version": "2.7.6"
  }
 },
 "nbformat": 4,
 "nbformat_minor": 5
}
